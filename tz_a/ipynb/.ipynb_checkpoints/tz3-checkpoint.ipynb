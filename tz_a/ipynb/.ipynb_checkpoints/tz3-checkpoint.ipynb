{
 "cells": [
  {
   "cell_type": "code",
   "execution_count": null,
   "metadata": {
    "pycharm": {
     "is_executing": true,
     "name": "#%%\n"
    }
   },
   "outputs": [],
   "source": [
    "import math\n",
    "\n",
    "import pandas as pd\n",
    "import numpy as np\n",
    "from sklearn.ensemble import RandomForestClassifier\n",
    "from sklearn.feature_selection import SelectKBest, chi2, RFE\n",
    "from sklearn.preprocessing import MinMaxScaler\n",
    "import matplotlib.pyplot as plt\n",
    "\n",
    "\n",
    "def convert_string(item):\n",
    "    item = item.replace(\",\", \".\")\n",
    "    print(item)\n",
    "    print(type(item))\n",
    "    float(item)\n",
    "    print(type(float(item)))\n",
    "\n",
    "\n",
    "if __name__ == \"__main__\":\n",
    "    convert_string(\"5,5\")\n",
    "    data = pd.read_csv(r'D:\\IIStudy\\scientist_project\\data\\data.csv', delimiter=',')\n",
    "\n",
    "    # Размер дата фрейма\n",
    "    print('Размер Dataframe: ', data.shape)\n",
    "    print(data.head(5))\n",
    "\n",
    "    # Получаем обобщенную информацию о DataFrame\n",
    "    print('\\n\\nИнформация о Dataframe df.info():')\n",
    "    print(data.info())\n",
    "\n",
    "    # Возьмем и удалим нашу целевую переменную\n",
    "    target_name = \"ConfirmedMonthlyIncome (Target)\"\n",
    "    target = data[target_name]\n",
    "    data.drop(target_name, axis=1, inplace=True)\n",
    "    print(target)\n",
    "    # На оставшихся данных проведем нормализацию\n",
    "    object_features = [\"NaturalPersonID\", \"RequestDate\", \"ProductName\", \"TypeOfWork\", \"Employment\",\n",
    "                       \"SignIP\", \"sex\", \"EducationStatus\", \"otrasl_rabotodatelya\",\n",
    "                       \"kolichestvo_rabotnikov_v_organizacii\", \"Employment.1\", \"LivingRegionName\",\n",
    "                       \"Residence\", \"IncomeDocumentKind\", \"HaveSalaryCard\", \"IsBankWorker\", \"TypeOfWork.1\", \"SignIP.1\",\n",
    "                       \"harakteristika_tekutschego_trudoustrojstva\"]\n",
    "    float64_features = [\"CreditSum\", \"OrgStanding_N\"]\n",
    "    data[\"CreditSum\"] = data[\"CreditSum\"].fillna(0).astype(str)\n",
    "    data[\"OrgStanding_N\"] = data[\"OrgStanding_N\"].fillna(0).astype(str)\n",
    "    for i in range(len(data[\"CreditSum\"])):\n",
    "        data.loc[\"CreditSum\",i] = float(data[\"CreditSum\"][i].replace(\",\", \".\"))\n",
    "        data.loc[\"OrgStanding_N\",i] = float(data[\"OrgStanding_N\"][i].replace(\",\", \".\"))\n",
    "\n",
    "    continouns_features = set(data.columns) - set(object_features)\n",
    "    # continouns_features = set(float64_features)\n",
    "    min_max_scaler = MinMaxScaler()\n",
    "    data_norm = data.copy()\n",
    "    data_norm[list(continouns_features)] = min_max_scaler.fit_transform(data[list(continouns_features)])\n",
    "\n",
    "    corrCoef = data_norm.corr()\n",
    "    data_norm.corr().style.format(\"{:.2}\").background_gradient(cmap='coolwarm', axis=1)"
   ]
  },
  {
   "cell_type": "code",
   "execution_count": null,
   "metadata": {
    "pycharm": {
     "is_executing": true,
     "name": "#%%\n"
    }
   },
   "outputs": [],
   "source": []
  }
 ],
 "metadata": {
  "kernelspec": {
   "display_name": "Python 3",
   "language": "python",
   "name": "python3"
  }
 },
 "nbformat": 4,
 "nbformat_minor": 1
}
